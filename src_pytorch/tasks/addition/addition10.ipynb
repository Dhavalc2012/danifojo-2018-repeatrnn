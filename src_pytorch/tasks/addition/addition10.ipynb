{
 "cells": [
  {
   "cell_type": "markdown",
   "metadata": {},
   "source": [
    "### Necessary imports"
   ]
  },
  {
   "cell_type": "code",
   "execution_count": 139,
   "metadata": {
    "collapsed": true
   },
   "outputs": [],
   "source": [
    "from __future__ import print_function, division\n",
    "import numpy as np\n",
    "import matplotlib.pyplot as plt\n",
    "import time\n",
    "import pandas\n",
    "\n",
    "import torch\n",
    "import torch.nn as nn\n",
    "import torch.nn.functional as F\n",
    "from torch.autograd import Variable"
   ]
  },
  {
   "cell_type": "markdown",
   "metadata": {},
   "source": [
    "### Hyperparameters"
   ]
  },
  {
   "cell_type": "code",
   "execution_count": 140,
   "metadata": {
    "collapsed": true
   },
   "outputs": [],
   "source": [
    "sequence_length = 5\n",
    "total_digits = 5\n",
    "input_size = 10*total_digits\n",
    "output_size = 11*(total_digits+1)\n",
    "batch = 32\n",
    "hidden_size = 512\n",
    "num_layers = 1\n",
    "num_epochs = 10000\n",
    "learning_rate = 0.001"
   ]
  },
  {
   "cell_type": "markdown",
   "metadata": {},
   "source": [
    "### Generate samples"
   ]
  },
  {
   "cell_type": "code",
   "execution_count": 141,
   "metadata": {
    "collapsed": true
   },
   "outputs": [],
   "source": [
    "def add_vec(x,y):\n",
    "    n = max(len(x),len(y))\n",
    "    return num2vec(vec2num(x)+vec2num(y),n)\n",
    "\n",
    "def vec2num(x):\n",
    "    s = 0\n",
    "    for i in range(len(x)):\n",
    "        if x[i] == 10:\n",
    "            break    \n",
    "        s *= 10\n",
    "        s += x[i]\n",
    "    return s\n",
    "\n",
    "def num2vec(x, n):\n",
    "    y = np.zeros(n) + 10\n",
    "    digits = len(str(int(x)))\n",
    "    for i in range(digits):\n",
    "        y[i] = (x//10**(digits-i-1))%10\n",
    "    return y\n",
    "\n",
    "def encode_in(x):\n",
    "    y = np.zeros(len(x)*10)\n",
    "    for i in range(len(x)):\n",
    "        if x[i] == 10:\n",
    "            break\n",
    "        else:\n",
    "            y[10*i+int(x[i])] = 1\n",
    "    return y\n",
    "\n",
    "def encode_out(x):\n",
    "    y = np.zeros(len(x)*11, dtype=int)\n",
    "    for i in range(len(x)):\n",
    "        if x[i] == 10:\n",
    "            y[11*i+10] = 1\n",
    "        else:\n",
    "            y[11*i+int(x[i])] = 1\n",
    "    return y\n",
    "\n",
    "def decode_out(x):\n",
    "    y = np.zeros(len(x)//11, dtype=int)\n",
    "    for i in range(len(y)):\n",
    "        y[i] = np.argmax(x[i*11:(i+1)*11])\n",
    "    return y\n",
    "\n",
    "def generate():\n",
    "    input_dec = np.zeros((batch,sequence_length,total_digits),dtype=int) + 10\n",
    "    input_enc = np.zeros((batch,sequence_length,input_size),dtype=int)\n",
    "    output_dec = np.zeros((batch,sequence_length,total_digits+1),dtype=int)\n",
    "    output_enc = np.zeros((batch,sequence_length,output_size),dtype=int)\n",
    "    for i in range(batch):\n",
    "        for j in range(sequence_length):\n",
    "            digits = np.random.randint(total_digits) + 1    \n",
    "            for k in range(digits):\n",
    "                d = np.random.randint(10)\n",
    "                input_dec[i,j,k] = d\n",
    "            if j == 0:\n",
    "                output_dec[i,j,:-1] = input_dec[i,j,:]\n",
    "                output_dec[i,j,-1] = 10\n",
    "            elif j > 0:\n",
    "                output_dec[i,j,:] = add_vec(output_dec[i,j-1,:], input_dec[i,j,:])\n",
    "            input_enc[i,j,:] = encode_in(input_dec[i,j,:])\n",
    "            output_enc[i,j,:] = encode_out(output_dec[i,j,:])\n",
    "    x = Variable(torch.from_numpy(input_enc)).float()\n",
    "    y = Variable(torch.from_numpy(output_dec)).long()\n",
    "    if torch.cuda.is_available():\n",
    "        x = x.cuda()\n",
    "        y = y.cuda()\n",
    "    return x, y\n",
    "    "
   ]
  },
  {
   "cell_type": "markdown",
   "metadata": {},
   "source": [
    "### Neural Network"
   ]
  },
  {
   "cell_type": "code",
   "execution_count": 142,
   "metadata": {
    "collapsed": true
   },
   "outputs": [],
   "source": [
    "class RNN(nn.Module):\n",
    "    def __init__(self, input_size, hidden_size, num_layers=1):\n",
    "        super(RNN, self).__init__()\n",
    "        self.hidden_size = hidden_size\n",
    "        self.num_layers = num_layers\n",
    "        self.lstm = nn.LSTM(input_size, hidden_size, num_layers, batch_first=True)\n",
    "        self.fc = nn.Linear(sequence_length*hidden_size, sequence_length*output_size)\n",
    "    \n",
    "    def forward(self, x):\n",
    "        (h0, c0) = self.init_hidden_state()\n",
    "        out, (h0, c0) = self.lstm(x, (h0, c0))\n",
    "        out = out.contiguous()\n",
    "        out = self.fc(out.view(batch,-1))\n",
    "        for j in range(sequence_length):\n",
    "            for i in range(total_digits+1):\n",
    "                out[:,output_size*j + i*11:output_size*j + (i+1)*11] = \\\n",
    "                F.softmax(out[:,output_size*j + i*11:output_size*j + (i+1)*11].clone())\n",
    "        return out\n",
    "    \n",
    "    def init_hidden_state(self):\n",
    "        if torch.cuda.is_available():\n",
    "            h0 = Variable(torch.zeros(self.num_layers, batch, self.hidden_size).cuda()) \n",
    "            c0 = Variable(torch.zeros(self.num_layers, batch, self.hidden_size).cuda())\n",
    "        else:\n",
    "            h0 = Variable(torch.zeros(self.num_layers, batch, self.hidden_size)) \n",
    "            c0 = Variable(torch.zeros(self.num_layers, batch, self.hidden_size))\n",
    "        return h0, c0\n",
    "\n",
    "rnn = RNN(input_size, hidden_size, num_layers)\n",
    "if torch.cuda.is_available():\n",
    "    rnn.cuda()"
   ]
  },
  {
   "cell_type": "markdown",
   "metadata": {},
   "source": [
    "### Loss and optimizer"
   ]
  },
  {
   "cell_type": "code",
   "execution_count": 143,
   "metadata": {
    "collapsed": true
   },
   "outputs": [],
   "source": [
    "def CustomLoss(x,y,criterion):\n",
    "    s = Variable(torch.zeros(1), requires_grad=False)\n",
    "    y = y.view(batch,-1)\n",
    "    for j in range(1,sequence_length):\n",
    "        for i in range(total_digits+1):\n",
    "            s = s + criterion(x[:,output_size*j + i*11:output_size*j + (i+1)*11],\\\n",
    "                              y[:,(total_digits+1)*j + i])\n",
    "    return s\n",
    "\n",
    "criterion = nn.CrossEntropyLoss()\n",
    "optimizer = torch.optim.Adam(rnn.parameters(), lr=learning_rate)"
   ]
  },
  {
   "cell_type": "code",
   "execution_count": 1,
   "metadata": {
    "collapsed": true
   },
   "outputs": [],
   "source": [
    "def accuracy(out,y):\n",
    "    if torch.cuda.is_available():\n",
    "        out = out.view(batch,sequence_length,-1).cpu().data.numpy()\n",
    "        y = y.view(batch,sequence_length,-1).cpu().data.numpy()        \n",
    "    else:\n",
    "        out = out.view(batch,sequence_length,-1).data.numpy()\n",
    "        y = y.view(batch,sequence_length,-1).data.numpy()\n",
    "    s = 0.\n",
    "    for k in range(batch):\n",
    "        for j in range(1,sequence_length):\n",
    "            dec = decode_out(out[k,j,:])\n",
    "            if np.allclose(dec,y[k,j,:]):\n",
    "                s += 1\n",
    "    return s/((sequence_length-1)*batch)\n",
    "\n",
    "def _exponential_moving_average_smoothing(values, smoothing_factor):\n",
    "    if smoothing_factor == 0:\n",
    "        return values\n",
    "    if isinstance(values, list):\n",
    "        values = np.array(values)\n",
    "    return pandas.stats.moments.ewma(values, span=smoothing_factor)\n",
    "            \n",
    "    "
   ]
  },
  {
   "cell_type": "markdown",
   "metadata": {},
   "source": [
    "### Train"
   ]
  },
  {
   "cell_type": "code",
   "execution_count": 145,
   "metadata": {},
   "outputs": [
    {
     "name": "stdout",
     "output_type": "stream",
     "text": [
      "Step 500/10000 done. Loss = 52.8465232849. Accuracy = 0.0. Time elapsed: 29.285609006881714\n",
      "Step 1000/10000 done. Loss = 50.8768424988. Accuracy = 0.0078125. Time elapsed: 29.1622371673584\n",
      "Step 1500/10000 done. Loss = 50.0215797424. Accuracy = 0.015625. Time elapsed: 29.135515213012695\n",
      "Step 2000/10000 done. Loss = 50.2276573181. Accuracy = 0.0078125. Time elapsed: 29.166528940200806\n",
      "Step 2500/10000 done. Loss = 49.2199821472. Accuracy = 0.0. Time elapsed: 29.127482891082764\n",
      "Step 3000/10000 done. Loss = 48.4161643982. Accuracy = 0.0. Time elapsed: 29.031235933303833\n",
      "Step 3500/10000 done. Loss = 48.9818840027. Accuracy = 0.0234375. Time elapsed: 28.92485809326172\n",
      "Step 4000/10000 done. Loss = 49.5479736328. Accuracy = 0.0078125. Time elapsed: 28.84979796409607\n",
      "Step 4500/10000 done. Loss = 49.0483856201. Accuracy = 0.0. Time elapsed: 28.84592580795288\n",
      "Step 5000/10000 done. Loss = 48.2152137756. Accuracy = 0.0078125. Time elapsed: 28.867809772491455\n",
      "Step 5500/10000 done. Loss = 50.1233291626. Accuracy = 0.0078125. Time elapsed: 28.831921815872192\n",
      "Step 6000/10000 done. Loss = 48.9441680908. Accuracy = 0.0234375. Time elapsed: 28.790871143341064\n",
      "Step 6500/10000 done. Loss = 49.1609611511. Accuracy = 0.0078125. Time elapsed: 28.92255210876465\n",
      "Step 7000/10000 done. Loss = 48.8881950378. Accuracy = 0.015625. Time elapsed: 29.13470220565796\n",
      "Step 7500/10000 done. Loss = 49.6551628113. Accuracy = 0.0234375. Time elapsed: 28.840852975845337\n",
      "Step 8000/10000 done. Loss = 49.2013206482. Accuracy = 0.0. Time elapsed: 29.07394313812256\n",
      "Step 8500/10000 done. Loss = 49.1679115295. Accuracy = 0.0078125. Time elapsed: 28.963263034820557\n",
      "Step 9000/10000 done. Loss = 49.6760177612. Accuracy = 0.0234375. Time elapsed: 28.830394983291626\n",
      "Step 9500/10000 done. Loss = 48.3510360718. Accuracy = 0.0234375. Time elapsed: 116.72710585594177\n",
      "Step 10000/10000 done. Loss = 48.9704666138. Accuracy = 0.0078125. Time elapsed: 29.47646999359131\n"
     ]
    }
   ],
   "source": [
    "losses = np.zeros(num_epochs)\n",
    "acc = np.zeros(num_epochs)\n",
    "last_time = time.time()\n",
    "for i in range(num_epochs):\n",
    "    rnn.zero_grad()\n",
    "    x,y = generate()\n",
    "    out = rnn(x)\n",
    "    acc[i] = accuracy(out,y)\n",
    "    loss = CustomLoss(out,y,criterion)\n",
    "    losses[i] = loss.data[0]\n",
    "    loss.backward()\n",
    "    optimizer.step()\n",
    "    if (i+1)%(num_epochs//20) == 0:\n",
    "        print('Step '+ str(i+1) + '/' +str(num_epochs)+ ' done. Loss = ' + \\\n",
    "              str(losses[i])+ '. Accuracy = ' + str(acc[i]) + '. Time elapsed: ' + str(time.time()-last_time))\n",
    "        last_time = time.time()\n",
    "        "
   ]
  },
  {
   "cell_type": "markdown",
   "metadata": {},
   "source": [
    "### Plots"
   ]
  },
  {
   "cell_type": "code",
   "execution_count": 148,
   "metadata": {},
   "outputs": [
    {
     "name": "stderr",
     "output_type": "stream",
     "text": [
      "/Users/daspy/anaconda3/lib/python3.6/site-packages/ipykernel_launcher.py:18: FutureWarning: pd.ewm_mean is deprecated for ndarrays and will be removed in a future version\n"
     ]
    },
    {
     "data": {
      "text/plain": [
       "<matplotlib.text.Text at 0x1140a10b8>"
      ]
     },
     "execution_count": 148,
     "metadata": {},
     "output_type": "execute_result"
    },
    {
     "data": {
      "image/png": "[encoded data removed]",
      "text/plain": [
       "<matplotlib.figure.Figure at 0x11c5bccf8>"
      ]
     },
     "metadata": {},
     "output_type": "display_data"
    },
    {
     "data": {
      "image/png": "[encoded data removed]",
      "text/plain": [
       "<matplotlib.figure.Figure at 0x1c20168908>"
      ]
     },
     "metadata": {},
     "output_type": "display_data"
    }
   ],
   "source": [
    "%matplotlib inline\n",
    "losses_f = _exponential_moving_average_smoothing(losses, 50)\n",
    "plt.plot(losses_f)\n",
    "plt.title('Loss')\n",
    "plt.figure()\n",
    "acc_f = _exponential_moving_average_smoothing(acc, 50)\n",
    "plt.plot(acc_f)\n",
    "plt.title('Accuracy')"
   ]
  },
  {
   "cell_type": "code",
   "execution_count": null,
   "metadata": {
    "collapsed": true
   },
   "outputs": [],
   "source": []
  }
 ],
 "metadata": {
  "kernelspec": {
   "display_name": "Python 3",
   "language": "python",
   "name": "python3"
  },
  "language_info": {
   "codemirror_mode": {
    "name": "ipython",
    "version": 3
   },
   "file_extension": ".py",
   "mimetype": "text/x-python",
   "name": "python",
   "nbconvert_exporter": "python",
   "pygments_lexer": "ipython3",
   "version": "3.6.2"
  }
 },
 "nbformat": 4,
 "nbformat_minor": 2
}
