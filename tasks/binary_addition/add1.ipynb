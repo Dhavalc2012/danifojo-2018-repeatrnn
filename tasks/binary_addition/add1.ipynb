{
 "cells": [
  {
   "cell_type": "markdown",
   "metadata": {},
   "source": [
    "### Necessary imports"
   ]
  },
  {
   "cell_type": "code",
   "execution_count": 4,
   "metadata": {
    "collapsed": true
   },
   "outputs": [],
   "source": [
    "from __future__ import print_function, division\n",
    "import numpy as np\n",
    "import matplotlib.pyplot as plt\n",
    "import random\n",
    "import time\n",
    "\n",
    "import torch\n",
    "import torch.nn as nn\n",
    "import torch.nn.functional as F\n",
    "from torch.autograd import Variable"
   ]
  },
  {
   "cell_type": "markdown",
   "metadata": {},
   "source": [
    "### Hyperparameters"
   ]
  },
  {
   "cell_type": "code",
   "execution_count": 5,
   "metadata": {
    "collapsed": true
   },
   "outputs": [],
   "source": [
    "sequence_length = 5\n",
    "input_size = 15\n",
    "extra_size = 5\n",
    "batch = 32\n",
    "hidden_size = 512\n",
    "num_layers = 1\n",
    "num_epochs = 500\n",
    "learning_rate = 0.1"
   ]
  },
  {
   "cell_type": "markdown",
   "metadata": {},
   "source": [
    "### Generate samples"
   ]
  },
  {
   "cell_type": "code",
   "execution_count": 6,
   "metadata": {
    "collapsed": true
   },
   "outputs": [],
   "source": [
    "def add_vec(x,y):\n",
    "    tmp = 0\n",
    "    z = np.zeros(len(x),dtype=int)\n",
    "    for i in reversed(range(len(x))):\n",
    "        if x[i] == 0 and y[i] == 0:\n",
    "            z[i] = tmp\n",
    "            tmp = 0\n",
    "        elif x[i] == 1 and y[i] == 1:\n",
    "            z[i] = tmp\n",
    "            tmp = 1\n",
    "        else:\n",
    "            z[i] = 1-tmp\n",
    "    return z\n",
    "\n",
    "\n",
    "def generate_output(input_data):\n",
    "    output_data = np.zeros(input_data.shape,dtype = int)\n",
    "    for i in range(sequence_length):\n",
    "        for j in range(batch):\n",
    "            if i == 0:\n",
    "                output_data[i][j] = input_data[i][j]\n",
    "            else:\n",
    "                output_data[i][j] = add_vec(output_data[i-1][j],input_data[i][j])\n",
    "    return output_data\n",
    "\n",
    "def generate():\n",
    "    input_data = np.random.randint(2, size=(sequence_length, batch ,input_size))\n",
    "    input_data = np.concatenate((np.zeros((sequence_length, batch, extra_size)),input_data), axis=2)\n",
    "    output_data = generate_output(input_data)\n",
    "    x = Variable(torch.from_numpy(input_data)).float()\n",
    "    y = Variable(torch.from_numpy(output_data)).float()\n",
    "    if torch.cuda.is_available():\n",
    "        x = x.cuda()\n",
    "        y = y.cuda()\n",
    "    return x, y"
   ]
  },
  {
   "cell_type": "markdown",
   "metadata": {},
   "source": [
    "### Neural Network"
   ]
  },
  {
   "cell_type": "code",
   "execution_count": 7,
   "metadata": {},
   "outputs": [],
   "source": [
    "class RNN(nn.Module):\n",
    "    def __init__(self, input_size, hidden_size, num_layers=1):\n",
    "        super(RNN, self).__init__()\n",
    "        self.hidden_size = hidden_size\n",
    "        self.num_layers = num_layers\n",
    "        self.lstm = nn.LSTM(input_size+extra_size, hidden_size, num_layers)\n",
    "        self.fc = nn.Linear(sequence_length*hidden_size, sequence_length*(input_size+extra_size))\n",
    "    \n",
    "    def forward(self, x):\n",
    "        # Forward propagate RNN\n",
    "        (h0, c0) = self.init_hidden_state()\n",
    "        out, (h0, c0) = self.lstm(x, (h0, c0)) \n",
    "        out = self.fc(out.view(-1,sequence_length*hidden_size))\n",
    "        out = F.sigmoid(out)\n",
    "        return out\n",
    "    \n",
    "    def init_hidden_state(self):\n",
    "        if torch.cuda.is_available():\n",
    "            h0 = Variable(torch.zeros(self.num_layers, batch, self.hidden_size).cuda()) \n",
    "            c0 = Variable(torch.zeros(self.num_layers, batch, self.hidden_size).cuda())\n",
    "        else:\n",
    "            h0 = Variable(torch.zeros(self.num_layers, batch, self.hidden_size)) \n",
    "            c0 = Variable(torch.zeros(self.num_layers, batch, self.hidden_size))\n",
    "        return h0, c0\n",
    "\n",
    "rnn = RNN(input_size, hidden_size, num_layers)\n",
    "if torch.cuda.is_available():\n",
    "    rnn.cuda()"
   ]
  },
  {
   "cell_type": "markdown",
   "metadata": {},
   "source": [
    "### Test"
   ]
  },
  {
   "cell_type": "code",
   "execution_count": 8,
   "metadata": {
    "collapsed": true
   },
   "outputs": [],
   "source": [
    "x,y = generate()\n",
    "out = rnn(x)\n",
    "\n",
    "# print(out)"
   ]
  },
  {
   "cell_type": "markdown",
   "metadata": {},
   "source": [
    "### Loss and optimizer"
   ]
  },
  {
   "cell_type": "code",
   "execution_count": 9,
   "metadata": {
    "collapsed": true
   },
   "outputs": [],
   "source": [
    "criterion = nn.BCELoss()\n",
    "optimizer = torch.optim.Adam(rnn.parameters(), lr=learning_rate)"
   ]
  },
  {
   "cell_type": "code",
   "execution_count": 10,
   "metadata": {
    "collapsed": true
   },
   "outputs": [],
   "source": [
    "def accuracy(y,out):\n",
    "    y = y.data.numpy()\n",
    "    out = out.data.numpy()\n",
    "    out = np.round(out)\n",
    "    return 1 - (sum(sum(abs(y-out))))/((input_size+extra_size)*sequence_length*batch)"
   ]
  },
  {
   "cell_type": "markdown",
   "metadata": {},
   "source": [
    "### Train"
   ]
  },
  {
   "cell_type": "code",
   "execution_count": 12,
   "metadata": {},
   "outputs": [
    {
     "name": "stdout",
     "output_type": "stream",
     "text": [
      "Step 25/500 done. Loss = 14.5604400635. Accuracy = 0.565794648081. Time elapsed: 1.778245210647583\n",
      "Step 50/500 done. Loss = 11.3366594315. Accuracy = 0.659047167897. Time elapsed: 2.2563822269439697\n",
      "Step 75/500 done. Loss = 10.9062852859. Accuracy = 0.670130518973. Time elapsed: 2.858313798904419\n",
      "Step 100/500 done. Loss = 10.9098539352. Accuracy = 0.672849192023. Time elapsed: 2.642841100692749\n",
      "Step 125/500 done. Loss = 11.0685138702. Accuracy = 0.671997626424. Time elapsed: 2.394167900085449\n",
      "Step 150/500 done. Loss = 10.8566789627. Accuracy = 0.679550363123. Time elapsed: 2.230984926223755\n",
      "Step 175/500 done. Loss = 11.280919075. Accuracy = 0.669119748771. Time elapsed: 2.161612033843994\n",
      "Step 200/500 done. Loss = 11.1599779129. Accuracy = 0.672427907586. Time elapsed: 2.088521957397461\n",
      "Step 225/500 done. Loss = 11.2502355576. Accuracy = 0.669761740565. Time elapsed: 2.106377124786377\n",
      "Step 250/500 done. Loss = 11.0943307877. Accuracy = 0.675890580416. Time elapsed: 2.1815829277038574\n",
      "Step 275/500 done. Loss = 11.5230731964. Accuracy = 0.663134519756. Time elapsed: 2.168043851852417\n",
      "Step 300/500 done. Loss = 11.4926118851. Accuracy = 0.662679125071. Time elapsed: 2.1003122329711914\n",
      "Step 325/500 done. Loss = 11.3172588348. Accuracy = 0.668400504589. Time elapsed: 2.1815128326416016\n",
      "Step 350/500 done. Loss = 11.3782987595. Accuracy = 0.666239285469. Time elapsed: 2.4125959873199463\n",
      "Step 375/500 done. Loss = 11.0639514923. Accuracy = 0.67563427031. Time elapsed: 2.0035109519958496\n",
      "Step 400/500 done. Loss = 11.1539936066. Accuracy = 0.672603721917. Time elapsed: 1.8989062309265137\n",
      "Step 425/500 done. Loss = 11.4750881195. Accuracy = 0.664939499497. Time elapsed: 1.9333980083465576\n",
      "Step 450/500 done. Loss = 11.238694191. Accuracy = 0.670975268483. Time elapsed: 1.950706958770752\n",
      "Step 475/500 done. Loss = 11.041970253. Accuracy = 0.677177363932. Time elapsed: 1.7686767578125\n",
      "Step 500/500 done. Loss = 11.4527816772. Accuracy = 0.665434931517. Time elapsed: 1.8714439868927002\n"
     ]
    }
   ],
   "source": [
    "losses = np.zeros(num_epochs)\n",
    "acc = np.zeros(num_epochs)\n",
    "last_time = time.time()\n",
    "for i in range(num_epochs):\n",
    "    rnn.zero_grad()\n",
    "    x,y = generate()\n",
    "    out = rnn(x)\n",
    "    y = torch.transpose(y,0,1)\n",
    "    y = y.contiguous()\n",
    "    y = y.view(batch,-1)\n",
    "    y = y[:,20:]\n",
    "    out = out[:,20:]\n",
    "    loss = criterion(out,y)\n",
    "    losses[i] = loss.data[0]\n",
    "    acc[i] = accuracy(out,y)\n",
    "    loss.backward()\n",
    "    optimizer.step()\n",
    "    if (i+1)%(num_epochs//20) == 0:\n",
    "        print('Step '+ str(i+1) + '/' +str(num_epochs)+ ' done. Loss = ' + \\\n",
    "              str(losses[i])+ '. Accuracy = ' + str(acc[i]) + '. Time elapsed: ' + str(time.time()-last_time))\n",
    "        last_time = time.time()\n",
    "        "
   ]
  },
  {
   "cell_type": "markdown",
   "metadata": {},
   "source": [
    "### Plots"
   ]
  },
  {
   "cell_type": "code",
   "execution_count": 13,
   "metadata": {},
   "outputs": [
    {
     "data": {
      "text/plain": [
       "<matplotlib.text.Text at 0x11df6d940>"
      ]
     },
     "execution_count": 13,
     "metadata": {},
     "output_type": "execute_result"
    },
    {
     "data": {
      "image/png": "[encoded data removed]",
      "text/plain": [
       "<matplotlib.figure.Figure at 0x115873a90>"
      ]
     },
     "metadata": {},
     "output_type": "display_data"
    },
    {
     "data": {
      "image/png": "[encoded data removed]",
      "text/plain": [
       "<matplotlib.figure.Figure at 0x1158358d0>"
      ]
     },
     "metadata": {},
     "output_type": "display_data"
    }
   ],
   "source": [
    "%matplotlib inline\n",
    "plt.plot(losses)\n",
    "plt.title('Loss')\n",
    "plt.figure()\n",
    "plt.plot(acc)\n",
    "plt.title('Accuracy')"
   ]
  },
  {
   "cell_type": "markdown",
   "metadata": {},
   "source": [
    "### Test accuracy"
   ]
  },
  {
   "cell_type": "code",
   "execution_count": null,
   "metadata": {},
   "outputs": [],
   "source": [
    "x,y = generate()\n",
    "out = rnn(x)\n",
    "print(accuracy(out,y))\n"
   ]
  },
  {
   "cell_type": "code",
   "execution_count": null,
   "metadata": {},
   "outputs": [],
   "source": [
    "i"
   ]
  },
  {
   "cell_type": "code",
   "execution_count": null,
   "metadata": {
    "collapsed": true
   },
   "outputs": [],
   "source": []
  },
  {
   "cell_type": "code",
   "execution_count": null,
   "metadata": {
    "collapsed": true
   },
   "outputs": [],
   "source": []
  }
 ],
 "metadata": {
  "kernelspec": {
   "display_name": "Python 3",
   "language": "python",
   "name": "python3"
  },
  "language_info": {
   "codemirror_mode": {
    "name": "ipython",
    "version": 3
   },
   "file_extension": ".py",
   "mimetype": "text/x-python",
   "name": "python",
   "nbconvert_exporter": "python",
   "pygments_lexer": "ipython3",
   "version": "3.6.2"
  }
 },
 "nbformat": 4,
 "nbformat_minor": 2
}
