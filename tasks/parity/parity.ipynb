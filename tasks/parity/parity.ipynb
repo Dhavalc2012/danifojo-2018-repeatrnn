{
 "cells": [
  {
   "cell_type": "code",
   "execution_count": 1,
   "metadata": {
    "collapsed": true
   },
   "outputs": [],
   "source": [
    "from __future__ import print_function, division\n",
    "import numpy as np\n",
    "import matplotlib.pyplot as plt\n",
    "import random\n",
    "\n",
    "import torch\n",
    "import torch.nn as nn\n",
    "import torch.nn.functional as F\n",
    "from torch.autograd import Variable"
   ]
  },
  {
   "cell_type": "code",
   "execution_count": 2,
   "metadata": {
    "collapsed": true
   },
   "outputs": [],
   "source": [
    "sequence_length = 4\n",
    "input_size = 1\n",
    "batch = 128\n",
    "hidden_size = 128\n",
    "num_layers = 1\n",
    "num_epochs = 1000\n",
    "learning_rate = 0.01"
   ]
  },
  {
   "cell_type": "code",
   "execution_count": 3,
   "metadata": {
    "collapsed": true
   },
   "outputs": [],
   "source": [
    "def generate():\n",
    "    x = np.random.randint(3, size=(sequence_length,batch,input_size)) - 1\n",
    "    y = np.zeros((batch,1))\n",
    "    for i in range(batch):\n",
    "        unique, counts = np.unique(x[:,i,:], return_counts=True)\n",
    "        try:\n",
    "            y[i,0] = dict(zip(unique, counts))[1]%2\n",
    "        except:\n",
    "            y[i,0] = 0\n",
    "    x = Variable(torch.from_numpy(x).float())\n",
    "    y = Variable(torch.from_numpy(y).float())\n",
    "    return x, y\n",
    "\n"
   ]
  },
  {
   "cell_type": "code",
   "execution_count": 4,
   "metadata": {
    "collapsed": true
   },
   "outputs": [],
   "source": [
    "class RNN(nn.Module):\n",
    "    def __init__(self, input_size, hidden_size, num_layers=1):\n",
    "        super(RNN, self).__init__()\n",
    "        self.hidden_size = hidden_size\n",
    "        self.num_layers = num_layers\n",
    "        self.lstm = nn.LSTM(input_size, hidden_size, num_layers)\n",
    "        self.fc = nn.Linear(hidden_size, 1)\n",
    "    \n",
    "    def forward(self, x):\n",
    "        # Forward propagate RNN\n",
    "        (h0, c0) = self.init_hidden_state()\n",
    "        out, (h0, c0) = self.lstm(x, (h0, c0))\n",
    "        out = out[-1,:,:]\n",
    "        out = self.fc(out)\n",
    "        out = F.sigmoid(out)\n",
    "        return out\n",
    "    \n",
    "    def init_hidden_state(self):\n",
    "        if torch.cuda.is_available():\n",
    "            h0 = Variable(torch.zeros(self.num_layers, batch, self.hidden_size).cuda()) \n",
    "            c0 = Variable(torch.zeros(self.num_layers, batch, self.hidden_size).cuda())\n",
    "        else:\n",
    "            h0 = Variable(torch.zeros(self.num_layers, batch, self.hidden_size)) \n",
    "            c0 = Variable(torch.zeros(self.num_layers, batch, self.hidden_size))\n",
    "        return h0, c0\n",
    "\n",
    "rnn = RNN(input_size, hidden_size, num_layers)\n",
    "if torch.cuda.is_available():\n",
    "    rnn.cuda()"
   ]
  },
  {
   "cell_type": "code",
   "execution_count": 5,
   "metadata": {
    "collapsed": true
   },
   "outputs": [],
   "source": [
    "criterion = nn.BCELoss()\n",
    "optimizer = torch.optim.Adam(rnn.parameters(), lr=learning_rate)"
   ]
  },
  {
   "cell_type": "code",
   "execution_count": 6,
   "metadata": {
    "collapsed": true
   },
   "outputs": [],
   "source": [
    "def accuracy(y,out):\n",
    "    y = y.data.numpy()\n",
    "    out = out.data.numpy()\n",
    "    out = np.round(out)\n",
    "    return 1 - (sum(abs(y-out))/(batch))"
   ]
  },
  {
   "cell_type": "code",
   "execution_count": 7,
   "metadata": {},
   "outputs": [
    {
     "name": "stdout",
     "output_type": "stream",
     "text": [
      "Step 50/1000 done. Loss = 0.570147871971. Accuracy = 0.594073057175\n",
      "Step 100/1000 done. Loss = 0.0119584463537. Accuracy = 0.988232314587\n",
      "Step 150/1000 done. Loss = 0.00098523683846. Accuracy = 0.999015986919\n",
      "Step 200/1000 done. Loss = 0.000719463452697. Accuracy = 0.999281108379\n",
      "Step 250/1000 done. Loss = 0.00048854004126. Accuracy = 0.99951171875\n",
      "Step 300/1000 done. Loss = 0.000302975386148. Accuracy = 0.9996971488\n",
      "Step 350/1000 done. Loss = 0.000214911880903. Accuracy = 0.999785125256\n",
      "Step 400/1000 done. Loss = 0.000205228367122. Accuracy = 0.999794840813\n",
      "Step 450/1000 done. Loss = 0.000153186934767. Accuracy = 0.999846816063\n",
      "Step 500/1000 done. Loss = 0.000133979337988. Accuracy = 0.999866068363\n",
      "Step 550/1000 done. Loss = 0.000110928267532. Accuracy = 0.999889075756\n",
      "Step 600/1000 done. Loss = 9.84548678389e-05. Accuracy = 0.999901533127\n",
      "Step 650/1000 done. Loss = 9.04326152522e-05. Accuracy = 0.999909579754\n",
      "Step 700/1000 done. Loss = 7.06960781827e-05. Accuracy = 0.999929308891\n",
      "Step 750/1000 done. Loss = 6.6625107138e-05. Accuracy = 0.999933362007\n",
      "Step 800/1000 done. Loss = 5.34369210072e-05. Accuracy = 0.999946594238\n",
      "Step 850/1000 done. Loss = 4.09025633417e-05. Accuracy = 0.999959111214\n",
      "Step 900/1000 done. Loss = 4.66879318992e-05. Accuracy = 0.999953329563\n",
      "Step 950/1000 done. Loss = 3.58072466042e-05. Accuracy = 0.999964177608\n",
      "Step 1000/1000 done. Loss = 3.33833850164e-05. Accuracy = 0.999966621399\n"
     ]
    }
   ],
   "source": [
    "losses = np.zeros(num_epochs)\n",
    "acc = np.zeros(num_epochs)\n",
    "for i in range(num_epochs):\n",
    "    rnn.zero_grad()\n",
    "    x,y = generate()\n",
    "    out = rnn(x)\n",
    "    loss = criterion(out,y)\n",
    "    losses[i] = loss.data[0]\n",
    "    acc[i] = accuracy(out,y)\n",
    "    loss.backward()\n",
    "    optimizer.step()\n",
    "    if (i+1)%(num_epochs//20) == 0:\n",
    "        print('Step '+ str(i+1) + '/' +str(num_epochs)+' done. Loss = ' + str(losses[i])+ '. Accuracy = ' + str(acc[i]))"
   ]
  },
  {
   "cell_type": "code",
   "execution_count": 8,
   "metadata": {},
   "outputs": [
    {
     "data": {
      "text/plain": [
       "<matplotlib.text.Text at 0x12035add8>"
      ]
     },
     "execution_count": 8,
     "metadata": {},
     "output_type": "execute_result"
    },
    {
     "data": {
      "image/png": "[encoded data removed]",
      "text/plain": [
       "<matplotlib.figure.Figure at 0x11a7b9cc0>"
      ]
     },
     "metadata": {},
     "output_type": "display_data"
    },
    {
     "data": {
      "image/png": "[encoded data removed]",
      "text/plain": [
       "<matplotlib.figure.Figure at 0x110c0bb70>"
      ]
     },
     "metadata": {},
     "output_type": "display_data"
    }
   ],
   "source": [
    "%matplotlib inline\n",
    "plt.plot(losses)\n",
    "plt.title('Loss')\n",
    "plt.figure()\n",
    "plt.plot(acc)\n",
    "plt.title('Accuracy')"
   ]
  }
 ],
 "metadata": {
  "kernelspec": {
   "display_name": "Python 3",
   "language": "python",
   "name": "python3"
  },
  "language_info": {
   "codemirror_mode": {
    "name": "ipython",
    "version": 3
   },
   "file_extension": ".py",
   "mimetype": "text/x-python",
   "name": "python",
   "nbconvert_exporter": "python",
   "pygments_lexer": "ipython3",
   "version": "3.6.2"
  }
 },
 "nbformat": 4,
 "nbformat_minor": 2
}
