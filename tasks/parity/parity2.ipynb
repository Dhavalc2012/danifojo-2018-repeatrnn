{
 "cells": [
  {
   "cell_type": "code",
   "execution_count": 103,
   "metadata": {
    "collapsed": true
   },
   "outputs": [],
   "source": [
    "from __future__ import print_function, division\n",
    "import numpy as np\n",
    "import matplotlib.pyplot as plt\n",
    "import random\n",
    "\n",
    "import torch\n",
    "import torch.nn as nn\n",
    "import torch.nn.functional as F\n",
    "from torch.autograd import Variable"
   ]
  },
  {
   "cell_type": "code",
   "execution_count": 104,
   "metadata": {
    "collapsed": true
   },
   "outputs": [],
   "source": [
    "input_size = 64\n",
    "batch = 128\n",
    "hidden_size = 128\n",
    "num_layers = 1\n",
    "num_epochs = 1000\n",
    "learning_rate = 0.01"
   ]
  },
  {
   "cell_type": "code",
   "execution_count": 105,
   "metadata": {
    "collapsed": true
   },
   "outputs": [],
   "source": [
    "def generate():\n",
    "    x = np.random.randint(3, size=(batch,1,input_size)) - 1\n",
    "    y = np.zeros((batch,1))\n",
    "    for i in range(batch):\n",
    "        unique, counts = np.unique(x[i,:,:], return_counts=True)\n",
    "        try:\n",
    "            y[i,0] = dict(zip(unique, counts))[1]%2\n",
    "        except:\n",
    "            y[i,0] = 0\n",
    "    x = Variable(torch.from_numpy(x).float())\n",
    "    y = Variable(torch.from_numpy(y).float())\n",
    "    if torch.cuda.is_available():\n",
    "        x = x.cuda()\n",
    "        y = y.cuda()\n",
    "    return x, y"
   ]
  },
  {
   "cell_type": "code",
   "execution_count": 106,
   "metadata": {
    "collapsed": true
   },
   "outputs": [],
   "source": [
    "class RNN(nn.Module):\n",
    "    def __init__(self, input_size, hidden_size, num_layers=1):\n",
    "        super(RNN, self).__init__()\n",
    "        self.input_size = input_size\n",
    "        self.hidden_size = hidden_size\n",
    "        self.num_layers = num_layers\n",
    "        self.rnn = nn.RNN(input_size, hidden_size, num_layers, batch_first=True)\n",
    "        self.fc = nn.Linear(hidden_size, 1)\n",
    "    \n",
    "    def forward(self, x):\n",
    "        # Forward propagate RNN\n",
    "        h0= self.init_hidden_state()\n",
    "        out, h0 = self.rnn(x, h0)\n",
    "        out = out[:,-1,:]\n",
    "        out = self.fc(out)\n",
    "        out = F.sigmoid(out)\n",
    "        return out\n",
    "    \n",
    "    def init_hidden_state(self):\n",
    "        if torch.cuda.is_available():\n",
    "            h0 = Variable(torch.zeros(self.num_layers, batch, self.hidden_size).cuda()) \n",
    "        else:\n",
    "            h0 = Variable(torch.zeros(self.num_layers, batch, self.hidden_size)) \n",
    "        return h0\n",
    "\n",
    "rnn = RNN(input_size, hidden_size, num_layers)\n",
    "if torch.cuda.is_available():\n",
    "    rnn.cuda()"
   ]
  },
  {
   "cell_type": "code",
   "execution_count": 107,
   "metadata": {
    "collapsed": true
   },
   "outputs": [],
   "source": [
    "criterion = nn.BCELoss()\n",
    "optimizer = torch.optim.Adam(rnn.parameters(), lr=learning_rate)"
   ]
  },
  {
   "cell_type": "code",
   "execution_count": 108,
   "metadata": {
    "collapsed": true
   },
   "outputs": [],
   "source": [
    "def accuracy(y,out):\n",
    "    y = y.data.numpy()\n",
    "    out = out.data.numpy()\n",
    "    out = np.round(out)\n",
    "    return 1 - (sum(abs(y-out))/(batch))"
   ]
  },
  {
   "cell_type": "code",
   "execution_count": 109,
   "metadata": {},
   "outputs": [
    {
     "name": "stdout",
     "output_type": "stream",
     "text": [
      "Step 50/1000 done. Loss = 0.688254058361. Accuracy = 0.503508865833\n",
      "Step 100/1000 done. Loss = 0.695935130119. Accuracy = 0.499405622482\n",
      "Step 150/1000 done. Loss = 0.692672848701. Accuracy = 0.501103162766\n",
      "Step 200/1000 done. Loss = 0.694156885147. Accuracy = 0.503126680851\n",
      "Step 250/1000 done. Loss = 0.676254570484. Accuracy = 0.511129140854\n",
      "Step 300/1000 done. Loss = 0.657199382782. Accuracy = 0.527724981308\n",
      "Step 350/1000 done. Loss = 0.609301269054. Accuracy = 0.563777446747\n",
      "Step 400/1000 done. Loss = 0.474330872297. Accuracy = 0.646049976349\n",
      "Step 450/1000 done. Loss = 0.306890279055. Accuracy = 0.756637275219\n",
      "Step 500/1000 done. Loss = 0.280543297529. Accuracy = 0.792069196701\n",
      "Step 550/1000 done. Loss = 0.159859284759. Accuracy = 0.862184524536\n",
      "Step 600/1000 done. Loss = 0.10462410748. Accuracy = 0.903721988201\n",
      "Step 650/1000 done. Loss = 0.0631424114108. Accuracy = 0.940008044243\n",
      "Step 700/1000 done. Loss = 0.0546521693468. Accuracy = 0.947783648968\n",
      "Step 750/1000 done. Loss = 0.0379355736077. Accuracy = 0.963327288628\n",
      "Step 800/1000 done. Loss = 0.0310272593051. Accuracy = 0.969709873199\n",
      "Step 850/1000 done. Loss = 0.0300439335406. Accuracy = 0.970798492432\n",
      "Step 900/1000 done. Loss = 0.0239538196474. Accuracy = 0.976555347443\n",
      "Step 950/1000 done. Loss = 0.0149360364303. Accuracy = 0.985253453255\n",
      "Step 1000/1000 done. Loss = 0.0144889755175. Accuracy = 0.985748648643\n"
     ]
    }
   ],
   "source": [
    "losses = np.zeros(num_epochs)\n",
    "acc = np.zeros(num_epochs)\n",
    "for i in range(num_epochs):\n",
    "    rnn.zero_grad()\n",
    "    x,y = generate()\n",
    "    out = rnn(x)\n",
    "    loss = criterion(out,y)\n",
    "    losses[i] = loss.data[0]\n",
    "    acc[i] = accuracy(out,y)\n",
    "    loss.backward()\n",
    "    optimizer.step()\n",
    "    if (i+1)%(num_epochs//20) == 0:\n",
    "        print('Step '+ str(i+1) + '/' +str(num_epochs)+' done. Loss = ' + str(losses[i])+ '. Accuracy = ' + str(acc[i]))"
   ]
  },
  {
   "cell_type": "code",
   "execution_count": 110,
   "metadata": {},
   "outputs": [
    {
     "data": {
      "text/plain": [
       "<matplotlib.text.Text at 0x113024780>"
      ]
     },
     "execution_count": 110,
     "metadata": {},
     "output_type": "execute_result"
    },
    {
     "data": {
      "image/png": "[encoded data removed]",
      "text/plain": [
       "<matplotlib.figure.Figure at 0x112402a90>"
      ]
     },
     "metadata": {},
     "output_type": "display_data"
    },
    {
     "data": {
      "image/png": "[encoded data removed]",
      "text/plain": [
       "<matplotlib.figure.Figure at 0x112fdf390>"
      ]
     },
     "metadata": {},
     "output_type": "display_data"
    }
   ],
   "source": [
    "%matplotlib inline\n",
    "plt.plot(losses)\n",
    "plt.title('Loss')\n",
    "plt.figure()\n",
    "plt.plot(acc)\n",
    "plt.title('Accuracy')"
   ]
  },
  {
   "cell_type": "code",
   "execution_count": null,
   "metadata": {
    "collapsed": true
   },
   "outputs": [],
   "source": []
  }
 ],
 "metadata": {
  "kernelspec": {
   "display_name": "Python 3",
   "language": "python",
   "name": "python3"
  },
  "language_info": {
   "codemirror_mode": {
    "name": "ipython",
    "version": 3
   },
   "file_extension": ".py",
   "mimetype": "text/x-python",
   "name": "python",
   "nbconvert_exporter": "python",
   "pygments_lexer": "ipython3",
   "version": "3.6.2"
  }
 },
 "nbformat": 4,
 "nbformat_minor": 2
}
